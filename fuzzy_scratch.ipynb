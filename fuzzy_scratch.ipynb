{
 "cells": [
  {
   "cell_type": "code",
   "execution_count": 53,
   "metadata": {
    "collapsed": true,
    "pycharm": {
     "name": "#%%\n"
    }
   },
   "outputs": [],
   "source": [
    "import pandas as pd\n",
    "import numpy as np\n",
    "import matplotlib.pyplot as plt\n",
    "import matplotlib.ticker as plticker\n",
    "import random"
   ]
  },
  {
   "cell_type": "code",
   "execution_count": 5,
   "outputs": [],
   "source": [
    "data = pd.read_csv('diabetes.csv')\n",
    "# Nowy plik na rozmyte od 0"
   ],
   "metadata": {
    "collapsed": false,
    "pycharm": {
     "name": "#%%\n"
    }
   }
  },
  {
   "cell_type": "code",
   "execution_count": 6,
   "outputs": [
    {
     "data": {
      "text/plain": "       Pregnancies     Glucose  BloodPressure  SkinThickness     Insulin  \\\ncount   768.000000  768.000000     768.000000     768.000000  768.000000   \nmean      3.845052  120.894531      69.105469      20.536458   79.799479   \nstd       3.369578   31.972618      19.355807      15.952218  115.244002   \nmin       0.000000    0.000000       0.000000       0.000000    0.000000   \n25%       1.000000   99.000000      62.000000       0.000000    0.000000   \n50%       3.000000  117.000000      72.000000      23.000000   30.500000   \n75%       6.000000  140.250000      80.000000      32.000000  127.250000   \nmax      17.000000  199.000000     122.000000      99.000000  846.000000   \n\n              BMI  DiabetesPedigreeFunction         Age     Outcome  \ncount  768.000000                768.000000  768.000000  768.000000  \nmean    31.992578                  0.471876   33.240885    0.348958  \nstd      7.884160                  0.331329   11.760232    0.476951  \nmin      0.000000                  0.078000   21.000000    0.000000  \n25%     27.300000                  0.243750   24.000000    0.000000  \n50%     32.000000                  0.372500   29.000000    0.000000  \n75%     36.600000                  0.626250   41.000000    1.000000  \nmax     67.100000                  2.420000   81.000000    1.000000  ",
      "text/html": "<div>\n<style scoped>\n    .dataframe tbody tr th:only-of-type {\n        vertical-align: middle;\n    }\n\n    .dataframe tbody tr th {\n        vertical-align: top;\n    }\n\n    .dataframe thead th {\n        text-align: right;\n    }\n</style>\n<table border=\"1\" class=\"dataframe\">\n  <thead>\n    <tr style=\"text-align: right;\">\n      <th></th>\n      <th>Pregnancies</th>\n      <th>Glucose</th>\n      <th>BloodPressure</th>\n      <th>SkinThickness</th>\n      <th>Insulin</th>\n      <th>BMI</th>\n      <th>DiabetesPedigreeFunction</th>\n      <th>Age</th>\n      <th>Outcome</th>\n    </tr>\n  </thead>\n  <tbody>\n    <tr>\n      <th>count</th>\n      <td>768.000000</td>\n      <td>768.000000</td>\n      <td>768.000000</td>\n      <td>768.000000</td>\n      <td>768.000000</td>\n      <td>768.000000</td>\n      <td>768.000000</td>\n      <td>768.000000</td>\n      <td>768.000000</td>\n    </tr>\n    <tr>\n      <th>mean</th>\n      <td>3.845052</td>\n      <td>120.894531</td>\n      <td>69.105469</td>\n      <td>20.536458</td>\n      <td>79.799479</td>\n      <td>31.992578</td>\n      <td>0.471876</td>\n      <td>33.240885</td>\n      <td>0.348958</td>\n    </tr>\n    <tr>\n      <th>std</th>\n      <td>3.369578</td>\n      <td>31.972618</td>\n      <td>19.355807</td>\n      <td>15.952218</td>\n      <td>115.244002</td>\n      <td>7.884160</td>\n      <td>0.331329</td>\n      <td>11.760232</td>\n      <td>0.476951</td>\n    </tr>\n    <tr>\n      <th>min</th>\n      <td>0.000000</td>\n      <td>0.000000</td>\n      <td>0.000000</td>\n      <td>0.000000</td>\n      <td>0.000000</td>\n      <td>0.000000</td>\n      <td>0.078000</td>\n      <td>21.000000</td>\n      <td>0.000000</td>\n    </tr>\n    <tr>\n      <th>25%</th>\n      <td>1.000000</td>\n      <td>99.000000</td>\n      <td>62.000000</td>\n      <td>0.000000</td>\n      <td>0.000000</td>\n      <td>27.300000</td>\n      <td>0.243750</td>\n      <td>24.000000</td>\n      <td>0.000000</td>\n    </tr>\n    <tr>\n      <th>50%</th>\n      <td>3.000000</td>\n      <td>117.000000</td>\n      <td>72.000000</td>\n      <td>23.000000</td>\n      <td>30.500000</td>\n      <td>32.000000</td>\n      <td>0.372500</td>\n      <td>29.000000</td>\n      <td>0.000000</td>\n    </tr>\n    <tr>\n      <th>75%</th>\n      <td>6.000000</td>\n      <td>140.250000</td>\n      <td>80.000000</td>\n      <td>32.000000</td>\n      <td>127.250000</td>\n      <td>36.600000</td>\n      <td>0.626250</td>\n      <td>41.000000</td>\n      <td>1.000000</td>\n    </tr>\n    <tr>\n      <th>max</th>\n      <td>17.000000</td>\n      <td>199.000000</td>\n      <td>122.000000</td>\n      <td>99.000000</td>\n      <td>846.000000</td>\n      <td>67.100000</td>\n      <td>2.420000</td>\n      <td>81.000000</td>\n      <td>1.000000</td>\n    </tr>\n  </tbody>\n</table>\n</div>"
     },
     "execution_count": 6,
     "metadata": {},
     "output_type": "execute_result"
    }
   ],
   "source": [
    "data.describe()"
   ],
   "metadata": {
    "collapsed": false,
    "pycharm": {
     "name": "#%%\n"
    }
   }
  },
  {
   "cell_type": "code",
   "execution_count": 7,
   "outputs": [
    {
     "data": {
      "text/plain": "       Pregnancies     Glucose  BloodPressure  SkinThickness     Insulin  \\\ncount   392.000000  392.000000     392.000000     392.000000  392.000000   \nmean      3.301020  122.627551      70.663265      29.145408  156.056122   \nstd       3.211424   30.860781      12.496092      10.516424  118.841690   \nmin       0.000000   56.000000      24.000000       7.000000   14.000000   \n25%       1.000000   99.000000      62.000000      21.000000   76.750000   \n50%       2.000000  119.000000      70.000000      29.000000  125.500000   \n75%       5.000000  143.000000      78.000000      37.000000  190.000000   \nmax      17.000000  198.000000     110.000000      63.000000  846.000000   \n\n              BMI  DiabetesPedigreeFunction         Age     Outcome  \ncount  392.000000                392.000000  392.000000  392.000000  \nmean    33.086224                  0.523046   30.864796    0.331633  \nstd      7.027659                  0.345488   10.200777    0.471401  \nmin     18.200000                  0.085000   21.000000    0.000000  \n25%     28.400000                  0.269750   23.000000    0.000000  \n50%     33.200000                  0.449500   27.000000    0.000000  \n75%     37.100000                  0.687000   36.000000    1.000000  \nmax     67.100000                  2.420000   81.000000    1.000000  ",
      "text/html": "<div>\n<style scoped>\n    .dataframe tbody tr th:only-of-type {\n        vertical-align: middle;\n    }\n\n    .dataframe tbody tr th {\n        vertical-align: top;\n    }\n\n    .dataframe thead th {\n        text-align: right;\n    }\n</style>\n<table border=\"1\" class=\"dataframe\">\n  <thead>\n    <tr style=\"text-align: right;\">\n      <th></th>\n      <th>Pregnancies</th>\n      <th>Glucose</th>\n      <th>BloodPressure</th>\n      <th>SkinThickness</th>\n      <th>Insulin</th>\n      <th>BMI</th>\n      <th>DiabetesPedigreeFunction</th>\n      <th>Age</th>\n      <th>Outcome</th>\n    </tr>\n  </thead>\n  <tbody>\n    <tr>\n      <th>count</th>\n      <td>392.000000</td>\n      <td>392.000000</td>\n      <td>392.000000</td>\n      <td>392.000000</td>\n      <td>392.000000</td>\n      <td>392.000000</td>\n      <td>392.000000</td>\n      <td>392.000000</td>\n      <td>392.000000</td>\n    </tr>\n    <tr>\n      <th>mean</th>\n      <td>3.301020</td>\n      <td>122.627551</td>\n      <td>70.663265</td>\n      <td>29.145408</td>\n      <td>156.056122</td>\n      <td>33.086224</td>\n      <td>0.523046</td>\n      <td>30.864796</td>\n      <td>0.331633</td>\n    </tr>\n    <tr>\n      <th>std</th>\n      <td>3.211424</td>\n      <td>30.860781</td>\n      <td>12.496092</td>\n      <td>10.516424</td>\n      <td>118.841690</td>\n      <td>7.027659</td>\n      <td>0.345488</td>\n      <td>10.200777</td>\n      <td>0.471401</td>\n    </tr>\n    <tr>\n      <th>min</th>\n      <td>0.000000</td>\n      <td>56.000000</td>\n      <td>24.000000</td>\n      <td>7.000000</td>\n      <td>14.000000</td>\n      <td>18.200000</td>\n      <td>0.085000</td>\n      <td>21.000000</td>\n      <td>0.000000</td>\n    </tr>\n    <tr>\n      <th>25%</th>\n      <td>1.000000</td>\n      <td>99.000000</td>\n      <td>62.000000</td>\n      <td>21.000000</td>\n      <td>76.750000</td>\n      <td>28.400000</td>\n      <td>0.269750</td>\n      <td>23.000000</td>\n      <td>0.000000</td>\n    </tr>\n    <tr>\n      <th>50%</th>\n      <td>2.000000</td>\n      <td>119.000000</td>\n      <td>70.000000</td>\n      <td>29.000000</td>\n      <td>125.500000</td>\n      <td>33.200000</td>\n      <td>0.449500</td>\n      <td>27.000000</td>\n      <td>0.000000</td>\n    </tr>\n    <tr>\n      <th>75%</th>\n      <td>5.000000</td>\n      <td>143.000000</td>\n      <td>78.000000</td>\n      <td>37.000000</td>\n      <td>190.000000</td>\n      <td>37.100000</td>\n      <td>0.687000</td>\n      <td>36.000000</td>\n      <td>1.000000</td>\n    </tr>\n    <tr>\n      <th>max</th>\n      <td>17.000000</td>\n      <td>198.000000</td>\n      <td>110.000000</td>\n      <td>63.000000</td>\n      <td>846.000000</td>\n      <td>67.100000</td>\n      <td>2.420000</td>\n      <td>81.000000</td>\n      <td>1.000000</td>\n    </tr>\n  </tbody>\n</table>\n</div>"
     },
     "execution_count": 7,
     "metadata": {},
     "output_type": "execute_result"
    }
   ],
   "source": [
    "data = data[data['Glucose'] != 0]\n",
    "data = data[data['BloodPressure'] != 0]\n",
    "data = data[data['SkinThickness'] != 0]\n",
    "data = data[data['Insulin'] != 0]\n",
    "data = data[data['BMI'] != 0]\n",
    "data.describe()"
   ],
   "metadata": {
    "collapsed": false,
    "pycharm": {
     "name": "#%%\n"
    }
   }
  },
  {
   "cell_type": "code",
   "execution_count": 3,
   "outputs": [],
   "source": [
    "# Klasa statyczna zawierająca metody przydatne to przetwarzania danych\n",
    "class ProcessingData:\n",
    "\n",
    "    # metoda tasująca wiersze pd.DataFrame\n",
    "    @staticmethod\n",
    "    def shuffle(df: pd.DataFrame) -> pd.DataFrame:\n",
    "        \"\"\"\n",
    "        Receives a DataFrame, randomly shuffles it and returns a shuffled version.\n",
    "        :param df: pd.DataFrame\n",
    "        :return df: pd.DataFrame\n",
    "        \"\"\"\n",
    "        for idx in range(len(df) - 1, 0, -1):\n",
    "            rand_idx = random.randint(0, idx)\n",
    "            df.iloc[idx], df.iloc[rand_idx] = df.iloc[rand_idx], df.iloc[idx]\n",
    "        return df.reset_index(drop=True)\n",
    "\n",
    "    # metoda normalizująca kolumny pd.DataFrame za pomocą normalizacji z użyciem odchylenia standardowego\n",
    "    @staticmethod\n",
    "    def normalize_std(df: pd.DataFrame, label: str) -> pd.DataFrame:\n",
    "        \"\"\"\n",
    "        Receives a DataFrame and a class label to skip during normalization, normalizes data using min-max normalization and returns the normalized version.\n",
    "        :param label: str\n",
    "        :param df: pd.DataFrame\n",
    "        :return df: pd.DataFrame\n",
    "        \"\"\"\n",
    "        normalized = df.drop(labels=label, axis=1)\n",
    "        normalized = (normalized-normalized.mean())/(normalized.std())\n",
    "        return normalized.join(df[label])\n",
    "\n",
    "    # metoda normalizująca kolumny pd.DataFrame za pomocą normalizacji minmax\n",
    "    @staticmethod\n",
    "    def normalize_minmax(df: pd.DataFrame, label: str) -> pd.DataFrame:\n",
    "        \"\"\"\n",
    "        Receives a DataFrame and a class label to skip during normalization, normalizes data using min-max normalization and returns the normalized version.\n",
    "        :param label: str\n",
    "        :param df: pd.DataFrame\n",
    "        :return df: pd.DataFrame\n",
    "        \"\"\"\n",
    "        normalized = df.drop(labels=label, axis=1)\n",
    "        normalized = (normalized-normalized.min())/(normalized.max()-normalized.min())\n",
    "        return normalized.join(df[label])\n",
    "\n",
    "    # metoda dzieląca pd.DataFrame na zbiór treningowy oraz walidacyjny\n",
    "    @staticmethod\n",
    "    def split(df: pd.DataFrame, ratio: float) -> tuple[pd.DataFrame, pd.DataFrame]:\n",
    "        \"\"\"\n",
    "        Receives a DataFrame and returns two dataframes, split into training and validation DataFrames.\n",
    "        :param df: pd.DataFrame\n",
    "        :param ratio: float\n",
    "        :return training_df, validation_df: tuple[pd.DataFrame, pd.DataFrame]\n",
    "        \"\"\"\n",
    "        cutoff = int(len(df) * ratio)\n",
    "        return df[:cutoff].reset_index(drop=True), df[cutoff:].reset_index(drop=True)"
   ],
   "metadata": {
    "collapsed": false,
    "pycharm": {
     "name": "#%%\n"
    }
   }
  },
  {
   "cell_type": "code",
   "execution_count": 8,
   "outputs": [],
   "source": [
    "shuffled_data = ProcessingData.shuffle(data)\n",
    "training_data, _ = ProcessingData.split(shuffled_data, 0.7)"
   ],
   "metadata": {
    "collapsed": false,
    "pycharm": {
     "name": "#%%\n"
    }
   }
  },
  {
   "cell_type": "code",
   "execution_count": 47,
   "outputs": [],
   "source": [
    "class Fuzzy:\n",
    "    def __init__(self):\n",
    "        self.antecedent = []\n",
    "        self.consequent = []\n",
    "        self.rules = []\n",
    "\n",
    "    @staticmethod\n",
    "    def triangular_function(n, a, b, c):\n",
    "        # print(n, a, b, c)\n",
    "        if n <= a:\n",
    "            return 0\n",
    "        if a < n < b:\n",
    "            return (n - a) / (b - a)\n",
    "        if n == b:\n",
    "            return 1\n",
    "        if b < n < c:\n",
    "            return (c - n) / (c - b)\n",
    "        if n >= c:\n",
    "            return 0\n",
    "\n",
    "    @staticmethod\n",
    "    def trapezoidal_function(n, a, b, c, d):\n",
    "        # print(n, a, b, c, d)\n",
    "        if c == d and n >= d:\n",
    "            return 1\n",
    "        if a == b and n <= a:\n",
    "            return 1\n",
    "        if n <= a:\n",
    "            return 0\n",
    "        if a < n < b:\n",
    "            return (n - a) / (b - a)\n",
    "        if b <= n <= c:\n",
    "            return 1\n",
    "        if c < n < d:\n",
    "            return (d - n) / (d - c)\n",
    "        if n >= d:\n",
    "            return 0\n",
    "\n",
    "    def membership_function(self, n: float, *args) -> None:\n",
    "        # print(len(args))\n",
    "        # print(*args)\n",
    "        if len(args) == 3:\n",
    "            self.triangular_function(n, *args)\n",
    "        elif len(args) == 4:\n",
    "            self.trapezoidal_function(n, *args)\n",
    "        else:\n",
    "            print(\"Nieprawidłowa liczba argumentów\")"
   ],
   "metadata": {
    "collapsed": false,
    "pycharm": {
     "name": "#%%\n"
    }
   }
  },
  {
   "cell_type": "code",
   "execution_count": null,
   "outputs": [],
   "source": [
    "class FuzzyConsequent:\n",
    "    def __init__(self, *args):\n",
    "        if len(args) == 3:\n",
    "            self.a, self.b, self.c = args\n",
    "        elif len(args) == 4:\n",
    "            self.a, self.b, self.c, self.d = args\n",
    "        else:\n",
    "            print(\"Nieprawidłowa liczba argumentów\")"
   ],
   "metadata": {
    "collapsed": false,
    "pycharm": {
     "name": "#%%\n"
    }
   }
  },
  {
   "cell_type": "code",
   "execution_count": 68,
   "outputs": [
    {
     "data": {
      "text/plain": "<Figure size 432x288 with 1 Axes>",
      "image/png": "[encoded data removed]"
     },
     "metadata": {},
     "output_type": "display_data"
    }
   ],
   "source": [
    "fuzzy = Fuzzy()\n",
    "x = np.linspace(0., 7., num=101)\n",
    "y = np.array([fuzzy.membership_function(i, 1, 1, 3, 7) for i in x])\n",
    "\n",
    "fig, ax = plt.subplots()\n",
    "ax.plot(x, y)\n",
    "loc = plticker.MultipleLocator(base=1.0)\n",
    "ax.xaxis.set_major_locator(loc)\n",
    "\n",
    "plt.plot(x, y, 'r')\n",
    "plt.show()"
   ],
   "metadata": {
    "collapsed": false,
    "pycharm": {
     "name": "#%%\n"
    }
   }
  }
 ],
 "metadata": {
  "kernelspec": {
   "display_name": "Python 3",
   "language": "python",
   "name": "python3"
  },
  "language_info": {
   "codemirror_mode": {
    "name": "ipython",
    "version": 2
   },
   "file_extension": ".py",
   "mimetype": "text/x-python",
   "name": "python",
   "nbconvert_exporter": "python",
   "pygments_lexer": "ipython2",
   "version": "2.7.6"
  }
 },
 "nbformat": 4,
 "nbformat_minor": 0
}