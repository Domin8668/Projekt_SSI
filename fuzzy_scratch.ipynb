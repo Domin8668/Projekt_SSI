{
 "cells": [
  {
   "cell_type": "code",
   "execution_count": 292,
   "metadata": {
    "collapsed": true,
    "pycharm": {
     "name": "#%%\n"
    }
   },
   "outputs": [],
   "source": [
    "import pandas as pd\n",
    "import numpy as np\n",
    "import matplotlib.pyplot as plt\n",
    "import matplotlib.ticker as plticker\n",
    "import random\n",
    "from collections import defaultdict"
   ]
  },
  {
   "cell_type": "code",
   "execution_count": 91,
   "outputs": [],
   "source": [
    "data = pd.read_csv('diabetes.csv')\n",
    "# Nowy plik na rozmyte od 0"
   ],
   "metadata": {
    "collapsed": false,
    "pycharm": {
     "name": "#%%\n"
    }
   }
  },
  {
   "cell_type": "code",
   "execution_count": 92,
   "outputs": [
    {
     "data": {
      "text/plain": "       Pregnancies     Glucose  BloodPressure  SkinThickness     Insulin  \\\ncount   768.000000  768.000000     768.000000     768.000000  768.000000   \nmean      3.845052  120.894531      69.105469      20.536458   79.799479   \nstd       3.369578   31.972618      19.355807      15.952218  115.244002   \nmin       0.000000    0.000000       0.000000       0.000000    0.000000   \n25%       1.000000   99.000000      62.000000       0.000000    0.000000   \n50%       3.000000  117.000000      72.000000      23.000000   30.500000   \n75%       6.000000  140.250000      80.000000      32.000000  127.250000   \nmax      17.000000  199.000000     122.000000      99.000000  846.000000   \n\n              BMI  DiabetesPedigreeFunction         Age     Outcome  \ncount  768.000000                768.000000  768.000000  768.000000  \nmean    31.992578                  0.471876   33.240885    0.348958  \nstd      7.884160                  0.331329   11.760232    0.476951  \nmin      0.000000                  0.078000   21.000000    0.000000  \n25%     27.300000                  0.243750   24.000000    0.000000  \n50%     32.000000                  0.372500   29.000000    0.000000  \n75%     36.600000                  0.626250   41.000000    1.000000  \nmax     67.100000                  2.420000   81.000000    1.000000  ",
      "text/html": "<div>\n<style scoped>\n    .dataframe tbody tr th:only-of-type {\n        vertical-align: middle;\n    }\n\n    .dataframe tbody tr th {\n        vertical-align: top;\n    }\n\n    .dataframe thead th {\n        text-align: right;\n    }\n</style>\n<table border=\"1\" class=\"dataframe\">\n  <thead>\n    <tr style=\"text-align: right;\">\n      <th></th>\n      <th>Pregnancies</th>\n      <th>Glucose</th>\n      <th>BloodPressure</th>\n      <th>SkinThickness</th>\n      <th>Insulin</th>\n      <th>BMI</th>\n      <th>DiabetesPedigreeFunction</th>\n      <th>Age</th>\n      <th>Outcome</th>\n    </tr>\n  </thead>\n  <tbody>\n    <tr>\n      <th>count</th>\n      <td>768.000000</td>\n      <td>768.000000</td>\n      <td>768.000000</td>\n      <td>768.000000</td>\n      <td>768.000000</td>\n      <td>768.000000</td>\n      <td>768.000000</td>\n      <td>768.000000</td>\n      <td>768.000000</td>\n    </tr>\n    <tr>\n      <th>mean</th>\n      <td>3.845052</td>\n      <td>120.894531</td>\n      <td>69.105469</td>\n      <td>20.536458</td>\n      <td>79.799479</td>\n      <td>31.992578</td>\n      <td>0.471876</td>\n      <td>33.240885</td>\n      <td>0.348958</td>\n    </tr>\n    <tr>\n      <th>std</th>\n      <td>3.369578</td>\n      <td>31.972618</td>\n      <td>19.355807</td>\n      <td>15.952218</td>\n      <td>115.244002</td>\n      <td>7.884160</td>\n      <td>0.331329</td>\n      <td>11.760232</td>\n      <td>0.476951</td>\n    </tr>\n    <tr>\n      <th>min</th>\n      <td>0.000000</td>\n      <td>0.000000</td>\n      <td>0.000000</td>\n      <td>0.000000</td>\n      <td>0.000000</td>\n      <td>0.000000</td>\n      <td>0.078000</td>\n      <td>21.000000</td>\n      <td>0.000000</td>\n    </tr>\n    <tr>\n      <th>25%</th>\n      <td>1.000000</td>\n      <td>99.000000</td>\n      <td>62.000000</td>\n      <td>0.000000</td>\n      <td>0.000000</td>\n      <td>27.300000</td>\n      <td>0.243750</td>\n      <td>24.000000</td>\n      <td>0.000000</td>\n    </tr>\n    <tr>\n      <th>50%</th>\n      <td>3.000000</td>\n      <td>117.000000</td>\n      <td>72.000000</td>\n      <td>23.000000</td>\n      <td>30.500000</td>\n      <td>32.000000</td>\n      <td>0.372500</td>\n      <td>29.000000</td>\n      <td>0.000000</td>\n    </tr>\n    <tr>\n      <th>75%</th>\n      <td>6.000000</td>\n      <td>140.250000</td>\n      <td>80.000000</td>\n      <td>32.000000</td>\n      <td>127.250000</td>\n      <td>36.600000</td>\n      <td>0.626250</td>\n      <td>41.000000</td>\n      <td>1.000000</td>\n    </tr>\n    <tr>\n      <th>max</th>\n      <td>17.000000</td>\n      <td>199.000000</td>\n      <td>122.000000</td>\n      <td>99.000000</td>\n      <td>846.000000</td>\n      <td>67.100000</td>\n      <td>2.420000</td>\n      <td>81.000000</td>\n      <td>1.000000</td>\n    </tr>\n  </tbody>\n</table>\n</div>"
     },
     "execution_count": 92,
     "metadata": {},
     "output_type": "execute_result"
    }
   ],
   "source": [
    "data.describe()"
   ],
   "metadata": {
    "collapsed": false,
    "pycharm": {
     "name": "#%%\n"
    }
   }
  },
  {
   "cell_type": "code",
   "execution_count": 93,
   "outputs": [
    {
     "data": {
      "text/plain": "       Pregnancies     Glucose  BloodPressure  SkinThickness     Insulin  \\\ncount   392.000000  392.000000     392.000000     392.000000  392.000000   \nmean      3.301020  122.627551      70.663265      29.145408  156.056122   \nstd       3.211424   30.860781      12.496092      10.516424  118.841690   \nmin       0.000000   56.000000      24.000000       7.000000   14.000000   \n25%       1.000000   99.000000      62.000000      21.000000   76.750000   \n50%       2.000000  119.000000      70.000000      29.000000  125.500000   \n75%       5.000000  143.000000      78.000000      37.000000  190.000000   \nmax      17.000000  198.000000     110.000000      63.000000  846.000000   \n\n              BMI  DiabetesPedigreeFunction         Age     Outcome  \ncount  392.000000                392.000000  392.000000  392.000000  \nmean    33.086224                  0.523046   30.864796    0.331633  \nstd      7.027659                  0.345488   10.200777    0.471401  \nmin     18.200000                  0.085000   21.000000    0.000000  \n25%     28.400000                  0.269750   23.000000    0.000000  \n50%     33.200000                  0.449500   27.000000    0.000000  \n75%     37.100000                  0.687000   36.000000    1.000000  \nmax     67.100000                  2.420000   81.000000    1.000000  ",
      "text/html": "<div>\n<style scoped>\n    .dataframe tbody tr th:only-of-type {\n        vertical-align: middle;\n    }\n\n    .dataframe tbody tr th {\n        vertical-align: top;\n    }\n\n    .dataframe thead th {\n        text-align: right;\n    }\n</style>\n<table border=\"1\" class=\"dataframe\">\n  <thead>\n    <tr style=\"text-align: right;\">\n      <th></th>\n      <th>Pregnancies</th>\n      <th>Glucose</th>\n      <th>BloodPressure</th>\n      <th>SkinThickness</th>\n      <th>Insulin</th>\n      <th>BMI</th>\n      <th>DiabetesPedigreeFunction</th>\n      <th>Age</th>\n      <th>Outcome</th>\n    </tr>\n  </thead>\n  <tbody>\n    <tr>\n      <th>count</th>\n      <td>392.000000</td>\n      <td>392.000000</td>\n      <td>392.000000</td>\n      <td>392.000000</td>\n      <td>392.000000</td>\n      <td>392.000000</td>\n      <td>392.000000</td>\n      <td>392.000000</td>\n      <td>392.000000</td>\n    </tr>\n    <tr>\n      <th>mean</th>\n      <td>3.301020</td>\n      <td>122.627551</td>\n      <td>70.663265</td>\n      <td>29.145408</td>\n      <td>156.056122</td>\n      <td>33.086224</td>\n      <td>0.523046</td>\n      <td>30.864796</td>\n      <td>0.331633</td>\n    </tr>\n    <tr>\n      <th>std</th>\n      <td>3.211424</td>\n      <td>30.860781</td>\n      <td>12.496092</td>\n      <td>10.516424</td>\n      <td>118.841690</td>\n      <td>7.027659</td>\n      <td>0.345488</td>\n      <td>10.200777</td>\n      <td>0.471401</td>\n    </tr>\n    <tr>\n      <th>min</th>\n      <td>0.000000</td>\n      <td>56.000000</td>\n      <td>24.000000</td>\n      <td>7.000000</td>\n      <td>14.000000</td>\n      <td>18.200000</td>\n      <td>0.085000</td>\n      <td>21.000000</td>\n      <td>0.000000</td>\n    </tr>\n    <tr>\n      <th>25%</th>\n      <td>1.000000</td>\n      <td>99.000000</td>\n      <td>62.000000</td>\n      <td>21.000000</td>\n      <td>76.750000</td>\n      <td>28.400000</td>\n      <td>0.269750</td>\n      <td>23.000000</td>\n      <td>0.000000</td>\n    </tr>\n    <tr>\n      <th>50%</th>\n      <td>2.000000</td>\n      <td>119.000000</td>\n      <td>70.000000</td>\n      <td>29.000000</td>\n      <td>125.500000</td>\n      <td>33.200000</td>\n      <td>0.449500</td>\n      <td>27.000000</td>\n      <td>0.000000</td>\n    </tr>\n    <tr>\n      <th>75%</th>\n      <td>5.000000</td>\n      <td>143.000000</td>\n      <td>78.000000</td>\n      <td>37.000000</td>\n      <td>190.000000</td>\n      <td>37.100000</td>\n      <td>0.687000</td>\n      <td>36.000000</td>\n      <td>1.000000</td>\n    </tr>\n    <tr>\n      <th>max</th>\n      <td>17.000000</td>\n      <td>198.000000</td>\n      <td>110.000000</td>\n      <td>63.000000</td>\n      <td>846.000000</td>\n      <td>67.100000</td>\n      <td>2.420000</td>\n      <td>81.000000</td>\n      <td>1.000000</td>\n    </tr>\n  </tbody>\n</table>\n</div>"
     },
     "execution_count": 93,
     "metadata": {},
     "output_type": "execute_result"
    }
   ],
   "source": [
    "data = data[data['Glucose'] != 0]\n",
    "data = data[data['BloodPressure'] != 0]\n",
    "data = data[data['SkinThickness'] != 0]\n",
    "data = data[data['Insulin'] != 0]\n",
    "data = data[data['BMI'] != 0]\n",
    "data.describe()"
   ],
   "metadata": {
    "collapsed": false,
    "pycharm": {
     "name": "#%%\n"
    }
   }
  },
  {
   "cell_type": "code",
   "execution_count": 94,
   "outputs": [],
   "source": [
    "# Klasa statyczna zawierająca metody przydatne to przetwarzania danych\n",
    "class ProcessingData:\n",
    "\n",
    "    # metoda tasująca wiersze pd.DataFrame\n",
    "    @staticmethod\n",
    "    def shuffle(df: pd.DataFrame) -> pd.DataFrame:\n",
    "        \"\"\"\n",
    "        Receives a DataFrame, randomly shuffles it and returns a shuffled version.\n",
    "        :param df: pd.DataFrame\n",
    "        :return df: pd.DataFrame\n",
    "        \"\"\"\n",
    "        for idx in range(len(df) - 1, 0, -1):\n",
    "            rand_idx = random.randint(0, idx)\n",
    "            df.iloc[idx], df.iloc[rand_idx] = df.iloc[rand_idx], df.iloc[idx]\n",
    "        return df.reset_index(drop=True)\n",
    "\n",
    "    # metoda normalizująca kolumny pd.DataFrame za pomocą normalizacji z użyciem odchylenia standardowego\n",
    "    @staticmethod\n",
    "    def normalize_std(df: pd.DataFrame, label: str) -> pd.DataFrame:\n",
    "        \"\"\"\n",
    "        Receives a DataFrame and a class label to skip during normalization, normalizes data using min-max normalization and returns the normalized version.\n",
    "        :param label: str\n",
    "        :param df: pd.DataFrame\n",
    "        :return df: pd.DataFrame\n",
    "        \"\"\"\n",
    "        normalized = df.drop(labels=label, axis=1)\n",
    "        normalized = (normalized-normalized.mean())/(normalized.std())\n",
    "        return normalized.join(df[label])\n",
    "\n",
    "    # metoda normalizująca kolumny pd.DataFrame za pomocą normalizacji minmax\n",
    "    @staticmethod\n",
    "    def normalize_minmax(df: pd.DataFrame, label: str) -> pd.DataFrame:\n",
    "        \"\"\"\n",
    "        Receives a DataFrame and a class label to skip during normalization, normalizes data using min-max normalization and returns the normalized version.\n",
    "        :param label: str\n",
    "        :param df: pd.DataFrame\n",
    "        :return df: pd.DataFrame\n",
    "        \"\"\"\n",
    "        normalized = df.drop(labels=label, axis=1)\n",
    "        normalized = (normalized-normalized.min())/(normalized.max()-normalized.min())\n",
    "        return normalized.join(df[label])\n",
    "\n",
    "    # metoda dzieląca pd.DataFrame na zbiór treningowy oraz walidacyjny\n",
    "    @staticmethod\n",
    "    def split(df: pd.DataFrame, ratio: float) -> tuple[pd.DataFrame, pd.DataFrame]:\n",
    "        \"\"\"\n",
    "        Receives a DataFrame and returns two dataframes, split into training and validation DataFrames.\n",
    "        :param df: pd.DataFrame\n",
    "        :param ratio: float\n",
    "        :return training_df, validation_df: tuple[pd.DataFrame, pd.DataFrame]\n",
    "        \"\"\"\n",
    "        cutoff = int(len(df) * ratio)\n",
    "        return df[:cutoff].reset_index(drop=True), df[cutoff:].reset_index(drop=True)"
   ],
   "metadata": {
    "collapsed": false,
    "pycharm": {
     "name": "#%%\n"
    }
   }
  },
  {
   "cell_type": "code",
   "execution_count": 95,
   "outputs": [],
   "source": [
    "shuffled_data = ProcessingData.shuffle(data)\n",
    "training_data, validation_data = ProcessingData.split(shuffled_data, 0.7)"
   ],
   "metadata": {
    "collapsed": false,
    "pycharm": {
     "name": "#%%\n"
    }
   }
  },
  {
   "cell_type": "code",
   "execution_count": 389,
   "outputs": [],
   "source": [
    "class Fuzzy:\n",
    "    def __init__(self):\n",
    "        # słownik słowników rozmycia dla każdej kolumny\n",
    "        self.antecedents: dict[str: dict[str: tuple[float]]] = {}\n",
    "        # lista zawierająca nazwę etykiety klasy oraz słowników z jej rozmyciem\n",
    "        self.consequent: dict[str: dict[str: tuple[float]]] = {}\n",
    "        # lista słowników; każda reguła to jeden słownik\n",
    "        self.rules: list[dict[str: str]] = []\n",
    "\n",
    "    # metoda pozwalająca dodać poprzednika\n",
    "    def add_antecedent(self, parameter: str, linguistic_value: str, *args) -> None:\n",
    "        if parameter not in self.antecedents:\n",
    "            self.antecedents[parameter] = {}\n",
    "        self.antecedents[parameter][linguistic_value] = args\n",
    "\n",
    "    # metoda pozwalająca dodać konsekwencję\n",
    "    def add_consequent(self, parameter: str, linguistic_value: str, *args) -> None:\n",
    "        if parameter not in self.consequent:\n",
    "            self.consequent[parameter] = {}\n",
    "        self.consequent[parameter][linguistic_value] = args\n",
    "\n",
    "    # metoda pozwalająca dodać regułę\n",
    "    def add_rule(self, rule: dict[str: str]) -> None:\n",
    "        # assert set(rule.keys()) == set.union(set(self.antecedents.keys()), set(self.consequent.keys())), print(\"Nieprawidłowa liczba kategorii w regule.\")\n",
    "        self.rules.append(rule)\n",
    "        # print(set.union(set(self.antecedents.keys()), set(self.consequent.keys())))\n",
    "        # print(self.rules)\n",
    "\n",
    "    # metoda obliczająca przynależność dla funkcji typu trójkąt\n",
    "    @staticmethod\n",
    "    def triangular_function(n: float, a: float, b: float, c: float) -> float:\n",
    "        assert a <= b <= c\n",
    "        # print(n, a, b, c)\n",
    "        if n <= a:\n",
    "            return 0\n",
    "        if a < n < b:\n",
    "            return (n - a) / (b - a)\n",
    "        if n == b:\n",
    "            return 1\n",
    "        if b < n < c:\n",
    "            return (c - n) / (c - b)\n",
    "        if n >= c:\n",
    "            return 0\n",
    "\n",
    "    # metoda obliczająca przynależność dla funkcji typu trapez\n",
    "    @staticmethod\n",
    "    def trapezoidal_function(n: float, a: float, b: float, c: float, d: float) -> float:\n",
    "        assert a <= b <= c <= d\n",
    "        # print(n, a, b, c, d)\n",
    "        if c == d and n >= d:\n",
    "            return 1\n",
    "        if a == b and n <= a:\n",
    "            return 1\n",
    "        if n <= a:\n",
    "            return 0\n",
    "        if a < n < b:\n",
    "            return (n - a) / (b - a)\n",
    "        if b <= n <= c:\n",
    "            return 1\n",
    "        if c < n < d:\n",
    "            return (d - n) / (d - c)\n",
    "        if n >= d:\n",
    "            return 0\n",
    "\n",
    "    # metoda wywołująca funkcję przynależności\n",
    "    def membership_function(self, n: float, *args) -> float:\n",
    "        # print(len(args))\n",
    "        # print(*args)\n",
    "        assert len(args) in (3, 4), print(\"Nieprawidłowa liczba argumentów\")\n",
    "        if len(args) == 3:\n",
    "            return self.triangular_function(n, *args)\n",
    "        else:\n",
    "            return self.trapezoidal_function(n, *args)\n",
    "\n",
    "    # metoda rozmywająca dane wejściowe\n",
    "    def fuzzify(self, column: str, n: float) -> dict[str, float]:\n",
    "        return {antecedent: self.membership_function(n, *self.antecedents[column][antecedent]) for antecedent in self.antecedents[column].keys()}\n",
    "\n",
    "    # metoda obliczająca stopień spełnienia danej zasady\n",
    "    @staticmethod\n",
    "    def rule_fulfillment(rule: dict[str: str], fuzzy_values: dict[str: dict[str: float]]) -> tuple[str, float]:\n",
    "        # outputs = [{name: 0} for name in self.consequent[list(self.consequent.keys())[0]]]\n",
    "        label = list(rule.keys())[-1]\n",
    "        minimum = float('inf')\n",
    "        for name, linguistic_value in list(rule.items())[:-1]:\n",
    "            maximum = float('-inf')\n",
    "            for lvs in linguistic_value.split(' | '):\n",
    "                maximum = max(fuzzy_values[name][lvs], maximum)\n",
    "                # print(f'{fuzzy_values[name]}; {maximum:}')\n",
    "            minimum = min(minimum, maximum)\n",
    "        return rule[label], minimum\n",
    "\n",
    "\n",
    "    # metoda obliczająca powierzchnię danego wyniku\n",
    "    @staticmethod\n",
    "    def area(a: float, c: float) -> float:\n",
    "        return (c - a) / 2\n",
    "\n",
    "    # metoda środka ciężkości\n",
    "    @staticmethod\n",
    "    def cog(a: float, b: float, c: float) -> float:\n",
    "        return (a + b + c) / 3\n",
    "\n",
    "    # metoda agregująca, wyostrzająca wartość końcową za pomocą metody środka ciężkości\n",
    "    def aggregate(self, label: str, outputs: defaultdict) -> float:\n",
    "        counter = []\n",
    "        denominator = []\n",
    "        for name, membership in outputs.items():\n",
    "            a, b, c = self.consequent[label][name]\n",
    "            area = self.area(a, c)\n",
    "            # print(f'{area=}')\n",
    "            cog = self.cog(a, b, c)\n",
    "            # print(f'{cog=}')\n",
    "            counter.append(membership * area * cog)\n",
    "            denominator.append(membership * area)\n",
    "        print(f'{counter=}\\n{denominator=}')\n",
    "        return round(sum(counter) / sum(denominator), 3)\n",
    "\n",
    "    # metoda przewidująca etykietę klasy\n",
    "    def compute(self, sample: pd.Series) -> tuple[str, float]:\n",
    "        # rozmycie próbki\n",
    "        fuzzy_values = {column: self.fuzzify(column, sample[column]) for column in self.antecedents.keys()}\n",
    "        print(fuzzy_values)\n",
    "        # for column in fuzzy_values:\n",
    "        #     # fuzzy_values[column] = {k: v for k, v in sorted(fuzzy_values[column].items(), key=lambda x: x[1], reverse=True)}\n",
    "        #     print(fuzzy_values[column])\n",
    "\n",
    "        # obliczenie stopnia spełnienia zasad\n",
    "        fulfillments = [self.rule_fulfillment(rule, fuzzy_values) for rule in self.rules]\n",
    "        print(f'{fulfillments=}')\n",
    "        outputs = defaultdict(lambda: 0)\n",
    "        for linguistic_value, fulfillment in fulfillments:\n",
    "            outputs[linguistic_value] = max(outputs[linguistic_value], fulfillment)\n",
    "        print(outputs)\n",
    "        label = list(self.consequent.keys())[0]\n",
    "        # print(label)\n",
    "        output_names = sorted(outputs.keys(), key=lambda x: (-1 * outputs[x], x), reverse=True)\n",
    "        print(output_names)\n",
    "        return output_names[-1], self.aggregate(label, outputs)\n",
    "\n",
    "    # metoda pomocnicza wyświetlająca wykres rozmycia cechy\n",
    "    @staticmethod\n",
    "    def view(parameter: str) -> None:\n",
    "        # TODO: plotting an antecedent or a consequent\n",
    "        x = np.linspace(0., 7., num=101)\n",
    "        y = np.array([fuzzy.membership_function(i, 1, 1, 3, 7) for i in x])\n",
    "\n",
    "        fig, ax = plt.subplots()\n",
    "        ax.plot(x, y)\n",
    "        loc = plticker.MultipleLocator(base=1.0)\n",
    "        ax.xaxis.set_major_locator(loc)\n",
    "\n",
    "        plt.plot(x, y, 'r')\n",
    "        plt.show()"
   ],
   "metadata": {
    "collapsed": false,
    "pycharm": {
     "name": "#%%\n"
    }
   }
  },
  {
   "cell_type": "code",
   "execution_count": 403,
   "outputs": [
    {
     "name": "stdout",
     "output_type": "stream",
     "text": [
      "Pregnancies: {'low': (0, 0, 5), 'medium': (0, 5, 10), 'high': (5, 10, 17, 17)}\n",
      "Glucose: {'low': (44, 44, 86, 99), 'medium_low': (86, 99, 112), 'medium': (99, 112, 125), 'medium_high': (112, 125, 138), 'high': (125, 138, 199, 199)}\n",
      "BloodPressure: {'low': (24, 24, 75, 80), 'medium_low': (75, 80, 85), 'medium': (80, 85, 90), 'medium_high': (85, 90, 95), 'high': (125, 190, 846, 846)}\n",
      "SkinThickness: {'low': (7, 7, 15, 22), 'medium_low': (15, 22, 29), 'medium': (22, 29, 36), 'medium_high': (29, 36, 43), 'high': (36, 43, 99, 99)}\n",
      "Insulin: {'low': (14, 14, 76, 125), 'medium': (76, 125, 190), 'high': (125, 190, 846, 846)}\n",
      "BMI: {'underweight': (0, 0, 16, 22), 'healthy_weight': (16, 22, 28), 'overweight': (22, 28, 34), 'obese': (28, 34, 67.1, 67.1)}\n",
      "DiabetesPedigreeFunction: {'low': (0, 0, 0.25, 0.5), 'medium': (0.25, 0.5, 0.75), 'high': (0.5, 0.75, 2.42, 2.42)}\n",
      "Age: {'low': (21, 21, 34, 45), 'medium': (34, 45, 56), 'high': (45, 56, 81, 81)}\n",
      "Outcome: {'low': (0, 0, 1), 'high': (0, 1, 1)}\n"
     ]
    }
   ],
   "source": [
    "# Dodawanie poprzedników i konsekwencji\n",
    "fuzzy = Fuzzy()\n",
    "\n",
    "fuzzy.add_antecedent('Pregnancies', 'low', 0, 0, 5)\n",
    "fuzzy.add_antecedent('Pregnancies', 'medium', 0, 5, 10)\n",
    "fuzzy.add_antecedent('Pregnancies', 'high', 5, 10, 17, 17)\n",
    "\n",
    "fuzzy.add_antecedent('Glucose', 'low', 44, 44, 86, 99)\n",
    "fuzzy.add_antecedent('Glucose', 'medium_low', 86, 99, 112)\n",
    "fuzzy.add_antecedent('Glucose', 'medium', 99, 112, 125)\n",
    "fuzzy.add_antecedent('Glucose', 'medium_high', 112, 125, 138)\n",
    "fuzzy.add_antecedent('Glucose', 'high', 125, 138, 199, 199)\n",
    "\n",
    "fuzzy.add_antecedent('BloodPressure', 'low', 24, 24, 75, 80)\n",
    "fuzzy.add_antecedent('BloodPressure', 'medium_low', 75, 80, 85)\n",
    "fuzzy.add_antecedent('BloodPressure', 'medium', 80, 85, 90)\n",
    "fuzzy.add_antecedent('BloodPressure', 'medium_high', 85, 90, 95)\n",
    "fuzzy.add_antecedent('BloodPressure', 'high', 125, 190, 846, 846)\n",
    "\n",
    "fuzzy.add_antecedent('SkinThickness', 'low', 7, 7, 15, 22)\n",
    "fuzzy.add_antecedent('SkinThickness', 'medium_low', 15, 22, 29)\n",
    "fuzzy.add_antecedent('SkinThickness', 'medium', 22, 29, 36)\n",
    "fuzzy.add_antecedent('SkinThickness', 'medium_high', 29, 36, 43)\n",
    "fuzzy.add_antecedent('SkinThickness', 'high', 36, 43, 99, 99)\n",
    "\n",
    "fuzzy.add_antecedent('Insulin', 'low', 14, 14, 76, 125)\n",
    "fuzzy.add_antecedent('Insulin', 'medium', 76, 125, 190)\n",
    "fuzzy.add_antecedent('Insulin', 'high', 125, 190, 846, 846)\n",
    "\n",
    "fuzzy.add_antecedent('BMI', 'underweight', 0, 0, 16, 22)\n",
    "fuzzy.add_antecedent('BMI', 'healthy_weight', 16, 22, 28)\n",
    "fuzzy.add_antecedent('BMI', 'overweight', 22, 28, 34)\n",
    "fuzzy.add_antecedent('BMI', 'obese', 28, 34, 67.1, 67.1)\n",
    "\n",
    "fuzzy.add_antecedent('DiabetesPedigreeFunction', 'low', 0, 0, 0.25, 0.5)\n",
    "fuzzy.add_antecedent('DiabetesPedigreeFunction', 'medium', 0.25, 0.5, 0.75)\n",
    "fuzzy.add_antecedent('DiabetesPedigreeFunction', 'high', 0.5, 0.75, 2.42, 2.42)\n",
    "\n",
    "fuzzy.add_antecedent('Age', 'low', 21, 21, 34, 45)\n",
    "fuzzy.add_antecedent('Age', 'medium', 34, 45, 56)\n",
    "fuzzy.add_antecedent('Age', 'high', 45, 56, 81, 81)\n",
    "\n",
    "for elem in fuzzy.antecedents:\n",
    "    print(f'{elem}: {fuzzy.antecedents[elem]}')\n",
    "\n",
    "fuzzy.add_consequent('Outcome', 'low', 0, 0, 1)\n",
    "fuzzy.add_consequent('Outcome', 'high', 0, 1, 1)\n",
    "print(f'{list(fuzzy.consequent.keys())[0]}: {fuzzy.consequent[\"Outcome\"]}')"
   ],
   "metadata": {
    "collapsed": false,
    "pycharm": {
     "name": "#%%\n"
    }
   }
  },
  {
   "cell_type": "code",
   "execution_count": 404,
   "outputs": [],
   "source": [
    "# Dodawanie reguł\n",
    "# TODO: add rules and testing\n",
    "fuzzy.add_rule({'DiabetesPedigreeFunction': 'low | medium',\n",
    "                'Outcome': 'low'})\n",
    "fuzzy.add_rule({'DiabetesPedigreeFunction': 'high',\n",
    "                'Outcome': 'high'})\n",
    "fuzzy.add_rule({'Age': 'low',\n",
    "                'Outcome': 'low'})\n",
    "fuzzy.add_rule({'Age': 'high',\n",
    "                'Outcome': 'high'})\n",
    "fuzzy.add_rule({'Insulin': 'low',\n",
    "                'Outcome': 'low'})\n",
    "fuzzy.add_rule({'Insulin': 'high',\n",
    "                'Outcome': 'high'})"
   ],
   "metadata": {
    "collapsed": false,
    "pycharm": {
     "name": "#%%\n"
    }
   }
  },
  {
   "cell_type": "code",
   "execution_count": 405,
   "outputs": [
    {
     "name": "stdout",
     "output_type": "stream",
     "text": [
      "{'Pregnancies': {'low': 0.6, 'medium': 0.4, 'high': 0}, 'Glucose': {'low': 0, 'medium_low': 0, 'medium': 0.23076923076923078, 'medium_high': 0.7692307692307693, 'high': 0}, 'BloodPressure': {'low': 0.8, 'medium_low': 0.2, 'medium': 0, 'medium_high': 0, 'high': 0}, 'SkinThickness': {'low': 0, 'medium_low': 0.2857142857142857, 'medium': 0.7142857142857143, 'medium_high': 0, 'high': 0}, 'Insulin': {'low': 0, 'medium': 0, 'high': 1}, 'BMI': {'underweight': 0, 'healthy_weight': 0, 'overweight': 0, 'obese': 1}, 'DiabetesPedigreeFunction': {'low': 0.06800000000000006, 'medium': 0.9319999999999999, 'high': 0}, 'Age': {'low': 1, 'medium': 0, 'high': 0}}\n",
      "fulfillments=[('low', 0.9319999999999999), ('high', 0), ('low', 1), ('high', 0), ('low', 0), ('high', 1)]\n",
      "defaultdict(<function Fuzzy.compute.<locals>.<lambda> at 0x000001954CD20A60>, {'low': 1, 'high': 1})\n",
      "['low', 'high']\n",
      "counter=[0.16666666666666666, 0.3333333333333333]\n",
      "denominator=[0.5, 0.5]\n",
      "('high', 0.5)\n",
      "0.0\n"
     ]
    }
   ],
   "source": [
    "# przewidywanie etykiety klasy próbki\n",
    "value = validation_data.iloc[0]\n",
    "print(fuzzy.compute(value))\n",
    "print(value['Outcome'])"
   ],
   "metadata": {
    "collapsed": false,
    "pycharm": {
     "name": "#%%\n"
    }
   }
  }
 ],
 "metadata": {
  "kernelspec": {
   "display_name": "Python 3",
   "language": "python",
   "name": "python3"
  },
  "language_info": {
   "codemirror_mode": {
    "name": "ipython",
    "version": 2
   },
   "file_extension": ".py",
   "mimetype": "text/x-python",
   "name": "python",
   "nbconvert_exporter": "python",
   "pygments_lexer": "ipython2",
   "version": "2.7.6"
  }
 },
 "nbformat": 4,
 "nbformat_minor": 0
}